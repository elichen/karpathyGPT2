{
 "cells": [
  {
   "cell_type": "code",
   "execution_count": null,
   "id": "5c597ec2-44ef-499c-8d45-b09ae75b592b",
   "metadata": {},
   "outputs": [],
   "source": [
    "%pip install transformers matplotlib tiktoken --quiet"
   ]
  },
  {
   "cell_type": "code",
   "execution_count": null,
   "id": "c4cd38fe-a4c7-42fc-be1f-089e7fd7977c",
   "metadata": {},
   "outputs": [],
   "source": [
    "from transformers import GPT2LMHeadModel"
   ]
  },
  {
   "cell_type": "code",
   "execution_count": null,
   "id": "30f684d7-72f2-41bf-a5b1-2823ac2ecc8f",
   "metadata": {},
   "outputs": [],
   "source": [
    "model_hf = GPT2LMHeadModel.from_pretrained(\"gpt2\")"
   ]
  },
  {
   "cell_type": "code",
   "execution_count": null,
   "id": "e301133f-c5c4-45b4-938e-ee25903e38ef",
   "metadata": {},
   "outputs": [],
   "source": [
    "sd_hf = model_hf.state_dict()\n",
    "for k,v in sd_hf.items():\n",
    "    print(k, v.shape)"
   ]
  },
  {
   "cell_type": "code",
   "execution_count": null,
   "id": "7a74f756-9086-4e8c-bbf7-7c6d03d07831",
   "metadata": {},
   "outputs": [],
   "source": [
    "sd_hf['transformer.wpe.weight'].view(-1)[:20]"
   ]
  },
  {
   "cell_type": "code",
   "execution_count": null,
   "id": "37557b5f-8838-4464-aa07-219541631918",
   "metadata": {},
   "outputs": [],
   "source": [
    "import matplotlib.pyplot as plt\n",
    "plt.imshow(sd_hf['transformer.wpe.weight'], cmap='gray')"
   ]
  },
  {
   "cell_type": "code",
   "execution_count": null,
   "id": "e3913b10-ae2e-4b51-a67d-ee687ffb17b6",
   "metadata": {},
   "outputs": [],
   "source": [
    "plt.plot(sd_hf['transformer.wpe.weight'][:, 150])\n",
    "plt.plot(sd_hf['transformer.wpe.weight'][:, 200])\n",
    "plt.plot(sd_hf['transformer.wpe.weight'][:, 250])"
   ]
  },
  {
   "cell_type": "code",
   "execution_count": null,
   "id": "6f33f5f7-ddac-4aa8-824d-e9bfeeeb77de",
   "metadata": {},
   "outputs": [],
   "source": [
    "plt.imshow(sd_hf['transformer.h.1.attn.c_attn.weight'][:300,:300],cmap='gray')"
   ]
  },
  {
   "cell_type": "code",
   "execution_count": null,
   "id": "d9c46f32-670b-49c1-9ec3-ad40ecf77317",
   "metadata": {},
   "outputs": [],
   "source": [
    "from transformers import pipeline, set_seed\n",
    "generator = pipeline('text-generation', model='gpt2', device=0)\n",
    "set_seed(42)\n",
    "generator(\"Hello, I'm a language model,\", max_length=30, num_return_sequences=5, truncation=False)"
   ]
  },
  {
   "cell_type": "code",
   "execution_count": 1,
   "id": "52055827-eac0-4722-8c01-9037985cdb96",
   "metadata": {},
   "outputs": [],
   "source": [
    "# tiny Shakespeare dataset\n",
    "!wget -q -O input.txt https://raw.githubusercontent.com/karpathy/char-rnn/master/data/tinyshakespeare/input.txt"
   ]
  },
  {
   "cell_type": "code",
   "execution_count": null,
   "id": "52762c9d-2c83-46c5-8fca-14c3315f3cbf",
   "metadata": {},
   "outputs": [],
   "source": [
    "%run train_gpt2.py"
   ]
  }
 ],
 "metadata": {
  "kernelspec": {
   "display_name": "Python 3 (ipykernel)",
   "language": "python",
   "name": "python3"
  },
  "language_info": {
   "codemirror_mode": {
    "name": "ipython",
    "version": 3
   },
   "file_extension": ".py",
   "mimetype": "text/x-python",
   "name": "python",
   "nbconvert_exporter": "python",
   "pygments_lexer": "ipython3",
   "version": "3.10.12"
  }
 },
 "nbformat": 4,
 "nbformat_minor": 5
}
